{
 "cells": [
  {
   "cell_type": "code",
   "execution_count": 12,
   "metadata": {},
   "outputs": [],
   "source": [
    "import pandas as pd\n",
    "import time\n",
    "from datetime import datetime"
   ]
  },
  {
   "cell_type": "code",
   "execution_count": 30,
   "metadata": {},
   "outputs": [
    {
     "name": "stdout",
     "output_type": "stream",
     "text": [
      "2017-11-28 23:55:59.342380\n",
      "<class 'str'>\n",
      "['0', 'days', '00:00:01']\n",
      "00:00:01\n",
      "<class 'str'>\n",
      "0 days 00:00:01\n"
     ]
    }
   ],
   "source": [
    "a = datetime(2017, 11, 28, 23, 55, 59, 342380)\n",
    "print(a)\n",
    "\n",
    "raw_data_df = pd.read_csv('Derived Data Imjin 800.csv',header = 1, keep_default_na = False)\n",
    "date = raw_data_df['Date/Time']\n",
    "\n",
    "\n",
    "def convert_hours_minutes_seconds(): \n",
    "    \n",
    "\n",
    "\n",
    "start = date.loc[0]\n",
    "first = date.loc[1]\n",
    "time_split_1 = start.split()\n",
    "time_split_2 = first.split()\n",
    "\n",
    "time_1 = time_split_1[1]\n",
    "time_2 = time_split_2[1]\n",
    "\n",
    "time_1_datetime = pd.to_timedelta(time_1)\n",
    "time_2_datetime = pd.to_timedelta(time_2)\n",
    "\n",
    "difference_timedelta = time_2_datetime-time_1_datetime\n",
    "difference_str = str(difference_timedelta)\n",
    "\n",
    "print(type(difference_str))\n",
    "time_str_list = difference_str.split()\n",
    "print(time_str_list)\n",
    "\n",
    "time_str = time_str_list[2]\n",
    "print(time_str)\n",
    "print(type(time_str))\n",
    "\n",
    "#x = pd.to_datetime(start, format='%Y%m%d')\n",
    "#print(x)\n"
   ]
  },
  {
   "cell_type": "code",
   "execution_count": null,
   "metadata": {},
   "outputs": [],
   "source": []
  },
  {
   "cell_type": "code",
   "execution_count": null,
   "metadata": {},
   "outputs": [],
   "source": []
  }
 ],
 "metadata": {
  "kernelspec": {
   "display_name": "Python 3",
   "language": "python",
   "name": "python3"
  },
  "language_info": {
   "codemirror_mode": {
    "name": "ipython",
    "version": 3
   },
   "file_extension": ".py",
   "mimetype": "text/x-python",
   "name": "python",
   "nbconvert_exporter": "python",
   "pygments_lexer": "ipython3",
   "version": "3.7.1"
  }
 },
 "nbformat": 4,
 "nbformat_minor": 2
}
